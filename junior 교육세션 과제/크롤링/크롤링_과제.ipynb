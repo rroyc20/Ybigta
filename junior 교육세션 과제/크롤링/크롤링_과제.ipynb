{
 "cells": [
  {
   "cell_type": "markdown",
   "id": "852dfcd4",
   "metadata": {
    "id": "852dfcd4"
   },
   "source": [
    "# 크롤링 교육세션 과제"
   ]
  },
  {
   "cell_type": "markdown",
   "id": "66ebdb87",
   "metadata": {},
   "source": [
    "헤어질 결심의 리뷰 전체 크롤링 해보기 (한줄평은 X)\n",
    "\n",
    "결과물 xlsx 파일, 코드를 제출해주시면 됩니다.\n",
    "\n",
    "셀레니움 없이 할수도 있겠지만, 셀레니움 사용을 추천합니다,,,!!"
   ]
  },
  {
   "cell_type": "code",
   "execution_count": 1,
   "id": "9946ba6e",
   "metadata": {},
   "outputs": [
    {
     "name": "stdout",
     "output_type": "stream",
     "text": [
      "Defaulting to user installation because normal site-packages is not writeable\n",
      "Requirement already satisfied: requests in c:\\programdata\\anaconda3\\lib\\site-packages (2.27.1)\n",
      "Requirement already satisfied: urllib3<1.27,>=1.21.1 in c:\\programdata\\anaconda3\\lib\\site-packages (from requests) (1.26.9)\n",
      "Requirement already satisfied: idna<4,>=2.5 in c:\\programdata\\anaconda3\\lib\\site-packages (from requests) (3.3)\n",
      "Requirement already satisfied: charset-normalizer~=2.0.0 in c:\\programdata\\anaconda3\\lib\\site-packages (from requests) (2.0.4)\n",
      "Requirement already satisfied: certifi>=2017.4.17 in c:\\programdata\\anaconda3\\lib\\site-packages (from requests) (2021.10.8)\n",
      "Defaulting to user installation because normal site-packages is not writeable\n",
      "Requirement already satisfied: bs4 in c:\\users\\rroyc\\appdata\\roaming\\python\\python39\\site-packages (0.0.1)\n",
      "Requirement already satisfied: beautifulsoup4 in c:\\programdata\\anaconda3\\lib\\site-packages (from bs4) (4.11.1)\n",
      "Requirement already satisfied: soupsieve>1.2 in c:\\programdata\\anaconda3\\lib\\site-packages (from beautifulsoup4->bs4) (2.3.1)\n"
     ]
    }
   ],
   "source": [
    "!pip install requests\n",
    "!pip install bs4"
   ]
  },
  {
   "cell_type": "code",
   "execution_count": 2,
   "id": "537182ab",
   "metadata": {},
   "outputs": [],
   "source": [
    "import requests\n",
    "from bs4 import BeautifulSoup\n",
    "import pandas as pd"
   ]
  },
  {
   "cell_type": "code",
   "execution_count": 3,
   "id": "af1c8b47",
   "metadata": {},
   "outputs": [],
   "source": [
    "reviewpagenum = [i for i in range(1,14)]\n",
    "res = []\n",
    "reviewer_ = []\n",
    "rating_for_contents = []\n",
    "rating_for_design = []\n",
    "avg_rate = []\n",
    "review_title=[]\n",
    "rev_date = []\n",
    "for num in reviewpagenum:\n",
    "    url = f'http://www.yes24.com/Product/communityModules/GoodsReviewList/110791050?Sort=1&PageNumber={num}&Type=ALL'\n",
    "    r1 = requests.get(url)\n",
    "    review = BeautifulSoup(r1.text, 'lxml')\n",
    "    reviews = review.find_all('div',attrs={'class':'review_cont'})\n",
    "    ratings = review.find_all('span',attrs={'class':'review_rating'})\n",
    "    reviewers = review.find_all('a',attrs={'class':'lnk_id'})\n",
    "    titles = review.find_all('span',attrs={'class':'review_tit'})\n",
    "    dates = review.find_all('em',attrs={'class':'txt_date'})\n",
    "    for i in range(1,len(reviews),2):\n",
    "        rev = reviews[i]\n",
    "        rev1=rev.get_text().replace('\\\\','').replace('\\n','').replace('\\t','').replace('\\xa0','').replace('\\r','').replace('                ','')\n",
    "        res.append(rev1)\n",
    "    for i in range(len(ratings)):\n",
    "        a1,a2= ratings[i].get_text().replace('\\r\\n                    ','').replace('\\xa0\\r\\n                    ','').replace('\\n','').split('\\xa0')\n",
    "        rating_for_contents.append(int(a1[-2]))\n",
    "        rating_for_design.append(int(a2[-2]))\n",
    "    for i in range(len(reviewers)):\n",
    "        reviewer = reviewers[i].get_text()\n",
    "        reviewer_.append(reviewer)\n",
    "        title = titles[i].get_text().replace('\\n','')\n",
    "        review_title.append(title)\n",
    "        date = dates[i].get_text().replace('\\n','')\n",
    "        rev_date.append(date)"
   ]
  },
  {
   "cell_type": "code",
   "execution_count": 4,
   "id": "22b288be",
   "metadata": {},
   "outputs": [],
   "source": [
    "rev_df=pd.DataFrame()"
   ]
  },
  {
   "cell_type": "code",
   "execution_count": 5,
   "id": "39e3fbcd",
   "metadata": {},
   "outputs": [],
   "source": [
    "rev_df['제목'] = review_title\n",
    "rev_df['내용 평점'] = rating_for_contents\n",
    "rev_df['디자인 평점'] = rating_for_design\n",
    "rev_df['작성자'] = reviewer_\n",
    "rev_df['작성일자'] = rev_date\n",
    "rev_df['내용'] = res"
   ]
  },
  {
   "cell_type": "code",
   "execution_count": 6,
   "id": "b706ef15",
   "metadata": {},
   "outputs": [
    {
     "data": {
      "text/html": [
       "<div>\n",
       "<style scoped>\n",
       "    .dataframe tbody tr th:only-of-type {\n",
       "        vertical-align: middle;\n",
       "    }\n",
       "\n",
       "    .dataframe tbody tr th {\n",
       "        vertical-align: top;\n",
       "    }\n",
       "\n",
       "    .dataframe thead th {\n",
       "        text-align: right;\n",
       "    }\n",
       "</style>\n",
       "<table border=\"1\" class=\"dataframe\">\n",
       "  <thead>\n",
       "    <tr style=\"text-align: right;\">\n",
       "      <th></th>\n",
       "      <th>제목</th>\n",
       "      <th>내용 평점</th>\n",
       "      <th>디자인 평점</th>\n",
       "      <th>작성자</th>\n",
       "      <th>작성일자</th>\n",
       "      <th>내용</th>\n",
       "    </tr>\n",
       "  </thead>\n",
       "  <tbody>\n",
       "    <tr>\n",
       "      <th>0</th>\n",
       "      <td>최고의 작품</td>\n",
       "      <td>5</td>\n",
       "      <td>5</td>\n",
       "      <td>n*******7</td>\n",
       "      <td>2022-10-07</td>\n",
       "      <td>최고의 작품을 볼 수 있어서 행복했고 동시에 그리웠었는데 이제 언제든 꺼내 기억할 ...</td>\n",
       "    </tr>\n",
       "    <tr>\n",
       "      <th>1</th>\n",
       "      <td>내가 왜 헤결을 좋아하는지 알아요?</td>\n",
       "      <td>5</td>\n",
       "      <td>5</td>\n",
       "      <td>혹**래</td>\n",
       "      <td>2022-10-07</td>\n",
       "      <td>헤결을 왜 좋아하는지 말하면 내내 그 생각만 할까봐서요?-박찬욱 감독님 영화는 헤어...</td>\n",
       "    </tr>\n",
       "    <tr>\n",
       "      <th>2</th>\n",
       "      <td>의미있는 각본집</td>\n",
       "      <td>5</td>\n",
       "      <td>5</td>\n",
       "      <td>g*******0</td>\n",
       "      <td>2022-10-07</td>\n",
       "      <td>평소 각본집을 보는 일이 거의 없는데 영화에 대한 인상이 너무 깊어서인지 손이 가게...</td>\n",
       "    </tr>\n",
       "    <tr>\n",
       "      <th>3</th>\n",
       "      <td>헤어질결심</td>\n",
       "      <td>5</td>\n",
       "      <td>5</td>\n",
       "      <td>b*******o</td>\n",
       "      <td>2022-10-06</td>\n",
       "      <td>영화 헤어질 결심의 각본집을 홀린듯이 주문했어요.왜 이 영화가 이렇게 좋을까 계속 ...</td>\n",
       "    </tr>\n",
       "    <tr>\n",
       "      <th>4</th>\n",
       "      <td>헤어질 결심 - 영화는 못 보고 시나리오부터 읽었습니다.</td>\n",
       "      <td>5</td>\n",
       "      <td>5</td>\n",
       "      <td>w****M</td>\n",
       "      <td>2022-10-05</td>\n",
       "      <td>75회 칸 영화제 감독상을 받은 &lt;헤어질 결심&gt;을 영화가 아닌 각본으로 먼저 만났다...</td>\n",
       "    </tr>\n",
       "    <tr>\n",
       "      <th>...</th>\n",
       "      <td>...</td>\n",
       "      <td>...</td>\n",
       "      <td>...</td>\n",
       "      <td>...</td>\n",
       "      <td>...</td>\n",
       "      <td>...</td>\n",
       "    </tr>\n",
       "    <tr>\n",
       "      <th>58</th>\n",
       "      <td>헤어질 결심</td>\n",
       "      <td>5</td>\n",
       "      <td>5</td>\n",
       "      <td>p*****a</td>\n",
       "      <td>2022-07-30</td>\n",
       "      <td>헤어질 결심 각본집 정말 오랫동안 기다렸는데 받자마자 너무 설레서 바로 봤어요 책 ...</td>\n",
       "    </tr>\n",
       "    <tr>\n",
       "      <th>59</th>\n",
       "      <td>헤어질 결심 각본</td>\n",
       "      <td>5</td>\n",
       "      <td>5</td>\n",
       "      <td>왁*</td>\n",
       "      <td>2022-07-30</td>\n",
       "      <td>영화 헤어질 결심의각본입니다.영화에서 보지 못했던 장면을 활자로 보게 되어 다행이에...</td>\n",
       "    </tr>\n",
       "    <tr>\n",
       "      <th>60</th>\n",
       "      <td>고전문학의 기품이 살아있는 각본집이란</td>\n",
       "      <td>5</td>\n",
       "      <td>5</td>\n",
       "      <td>h*****8</td>\n",
       "      <td>2022-07-29</td>\n",
       "      <td>박찬욱 감독 작품 중에서 가장 문학적이라고 느껴졌던 영화였기에 영화를 보자마자 각본...</td>\n",
       "    </tr>\n",
       "    <tr>\n",
       "      <th>61</th>\n",
       "      <td>경주 가면서 읽는 헤결..</td>\n",
       "      <td>5</td>\n",
       "      <td>5</td>\n",
       "      <td>c********7</td>\n",
       "      <td>2022-07-29</td>\n",
       "      <td>오늘도 헤결 n회차, 배우들의 연기가 아닌 오롯이 저의 상상으로 필름화한다는 것이 ...</td>\n",
       "    </tr>\n",
       "    <tr>\n",
       "      <th>62</th>\n",
       "      <td>헤어질 결심 각본</td>\n",
       "      <td>5</td>\n",
       "      <td>5</td>\n",
       "      <td>우*리</td>\n",
       "      <td>2022-07-26</td>\n",
       "      <td>헤어질 결심 각본영화를 너무 재미있게 봐서 각본 도서까지 구매하게 되었습니다.박찬욱...</td>\n",
       "    </tr>\n",
       "  </tbody>\n",
       "</table>\n",
       "<p>63 rows × 6 columns</p>\n",
       "</div>"
      ],
      "text/plain": [
       "                                 제목  내용 평점  디자인 평점         작성자        작성일자  \\\n",
       "0                            최고의 작품      5       5   n*******7  2022-10-07   \n",
       "1               내가 왜 헤결을 좋아하는지 알아요?      5       5        혹**래  2022-10-07   \n",
       "2                          의미있는 각본집      5       5   g*******0  2022-10-07   \n",
       "3                             헤어질결심      5       5   b*******o  2022-10-06   \n",
       "4   헤어질 결심 - 영화는 못 보고 시나리오부터 읽었습니다.      5       5      w****M  2022-10-05   \n",
       "..                              ...    ...     ...         ...         ...   \n",
       "58                           헤어질 결심      5       5     p*****a  2022-07-30   \n",
       "59                        헤어질 결심 각본      5       5          왁*  2022-07-30   \n",
       "60             고전문학의 기품이 살아있는 각본집이란      5       5     h*****8  2022-07-29   \n",
       "61                   경주 가면서 읽는 헤결..      5       5  c********7  2022-07-29   \n",
       "62                        헤어질 결심 각본      5       5         우*리  2022-07-26   \n",
       "\n",
       "                                                   내용  \n",
       "0   최고의 작품을 볼 수 있어서 행복했고 동시에 그리웠었는데 이제 언제든 꺼내 기억할 ...  \n",
       "1   헤결을 왜 좋아하는지 말하면 내내 그 생각만 할까봐서요?-박찬욱 감독님 영화는 헤어...  \n",
       "2   평소 각본집을 보는 일이 거의 없는데 영화에 대한 인상이 너무 깊어서인지 손이 가게...  \n",
       "3   영화 헤어질 결심의 각본집을 홀린듯이 주문했어요.왜 이 영화가 이렇게 좋을까 계속 ...  \n",
       "4   75회 칸 영화제 감독상을 받은 <헤어질 결심>을 영화가 아닌 각본으로 먼저 만났다...  \n",
       "..                                                ...  \n",
       "58  헤어질 결심 각본집 정말 오랫동안 기다렸는데 받자마자 너무 설레서 바로 봤어요 책 ...  \n",
       "59  영화 헤어질 결심의각본입니다.영화에서 보지 못했던 장면을 활자로 보게 되어 다행이에...  \n",
       "60  박찬욱 감독 작품 중에서 가장 문학적이라고 느껴졌던 영화였기에 영화를 보자마자 각본...  \n",
       "61  오늘도 헤결 n회차, 배우들의 연기가 아닌 오롯이 저의 상상으로 필름화한다는 것이 ...  \n",
       "62  헤어질 결심 각본영화를 너무 재미있게 봐서 각본 도서까지 구매하게 되었습니다.박찬욱...  \n",
       "\n",
       "[63 rows x 6 columns]"
      ]
     },
     "execution_count": 6,
     "metadata": {},
     "output_type": "execute_result"
    }
   ],
   "source": [
    "rev_df"
   ]
  },
  {
   "cell_type": "code",
   "execution_count": 7,
   "id": "9a55f77c",
   "metadata": {},
   "outputs": [],
   "source": [
    "rev_df.to_excel(\"review.xlsx\", index=False)"
   ]
  }
 ],
 "metadata": {
  "colab": {
   "provenance": []
  },
  "kernelspec": {
   "display_name": "Python 3 (ipykernel)",
   "language": "python",
   "name": "python3"
  },
  "language_info": {
   "codemirror_mode": {
    "name": "ipython",
    "version": 3
   },
   "file_extension": ".py",
   "mimetype": "text/x-python",
   "name": "python",
   "nbconvert_exporter": "python",
   "pygments_lexer": "ipython3",
   "version": "3.9.12"
  }
 },
 "nbformat": 4,
 "nbformat_minor": 5
}
